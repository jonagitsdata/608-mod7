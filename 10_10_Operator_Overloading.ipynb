{
 "cells": [
  {
   "cell_type": "code",
   "execution_count": 1,
   "id": "80bb6c46",
   "metadata": {},
   "outputs": [],
   "source": [
    "from complexnumber import Complex"
   ]
  },
  {
   "cell_type": "code",
   "execution_count": 2,
   "id": "c1ee0e9e",
   "metadata": {},
   "outputs": [],
   "source": [
    "x = Complex(real=2, imaginary=4)"
   ]
  },
  {
   "cell_type": "code",
   "execution_count": 3,
   "id": "42ab0c5d",
   "metadata": {},
   "outputs": [
    {
     "data": {
      "text/plain": [
       "(2 + 4i)"
      ]
     },
     "execution_count": 3,
     "metadata": {},
     "output_type": "execute_result"
    }
   ],
   "source": [
    "x"
   ]
  },
  {
   "cell_type": "code",
   "execution_count": 4,
   "id": "1d789269",
   "metadata": {},
   "outputs": [],
   "source": [
    "y = Complex(real=5, imaginary=-1)"
   ]
  },
  {
   "cell_type": "code",
   "execution_count": 5,
   "id": "8c1087d3",
   "metadata": {},
   "outputs": [
    {
     "data": {
      "text/plain": [
       "(5 - 1i)"
      ]
     },
     "execution_count": 5,
     "metadata": {},
     "output_type": "execute_result"
    }
   ],
   "source": [
    "y"
   ]
  },
  {
   "cell_type": "code",
   "execution_count": 6,
   "id": "c7cc1566",
   "metadata": {},
   "outputs": [
    {
     "data": {
      "text/plain": [
       "(7 + 3i)"
      ]
     },
     "execution_count": 6,
     "metadata": {},
     "output_type": "execute_result"
    }
   ],
   "source": [
    "x + y"
   ]
  },
  {
   "cell_type": "code",
   "execution_count": 7,
   "id": "c250d2b4",
   "metadata": {},
   "outputs": [],
   "source": [
    "x += y"
   ]
  },
  {
   "cell_type": "code",
   "execution_count": 8,
   "id": "4dd85fd7",
   "metadata": {},
   "outputs": [
    {
     "data": {
      "text/plain": [
       "(7 + 3i)"
      ]
     },
     "execution_count": 8,
     "metadata": {},
     "output_type": "execute_result"
    }
   ],
   "source": [
    "x "
   ]
  },
  {
   "cell_type": "code",
   "execution_count": 9,
   "id": "aa5365e8",
   "metadata": {},
   "outputs": [
    {
     "data": {
      "text/plain": [
       "(5 - 1i)"
      ]
     },
     "execution_count": 9,
     "metadata": {},
     "output_type": "execute_result"
    }
   ],
   "source": [
    "y"
   ]
  },
  {
   "cell_type": "code",
   "execution_count": 10,
   "id": "eac01c8e",
   "metadata": {},
   "outputs": [],
   "source": [
    "def __add__(self, right):\n",
    "    \"\"\"Overrides the + operator.\"\"\"\n",
    "    return Complex(self.real + right.real,\n",
    "                   self.imaginary + right.imaginary)"
   ]
  },
  {
   "cell_type": "code",
   "execution_count": 11,
   "id": "ed9c0504",
   "metadata": {},
   "outputs": [],
   "source": [
    "def __iadd__(self, right):\n",
    "    \"\"\"Overrides the += operator.\"\"\"\n",
    "    self.real += right.real\n",
    "    self.imaginary += right.imaginary\n",
    "    return self\n"
   ]
  },
  {
   "cell_type": "code",
   "execution_count": 13,
   "id": "ffe9000b",
   "metadata": {},
   "outputs": [],
   "source": [
    "def __repr__(self):\n",
    "    \"\"\"Return string representation for repr().\"\"\"\n",
    "    return (f'{self.real} ' +\n",
    "            ('+' if self.imaginary >= 0 else '-') +\n",
    "            f' {abs(self.imaginary)}i)')"
   ]
  },
  {
   "cell_type": "code",
   "execution_count": 14,
   "id": "06ffb073",
   "metadata": {},
   "outputs": [],
   "source": [
    "from complexnumber2 import Complex"
   ]
  },
  {
   "cell_type": "code",
   "execution_count": 15,
   "id": "4b78b8a9",
   "metadata": {},
   "outputs": [
    {
     "data": {
      "text/plain": [
       "(-3 + 5i)"
      ]
     },
     "execution_count": 15,
     "metadata": {},
     "output_type": "execute_result"
    }
   ],
   "source": [
    "x = Complex(real=2, imaginary=4)\n",
    "y = Complex(real=5, imaginary=-1)\n",
    "\n",
    "x - y "
   ]
  },
  {
   "cell_type": "code",
   "execution_count": 16,
   "id": "14775c16",
   "metadata": {},
   "outputs": [],
   "source": [
    "x -= y"
   ]
  },
  {
   "cell_type": "code",
   "execution_count": 17,
   "id": "336f375d",
   "metadata": {},
   "outputs": [
    {
     "data": {
      "text/plain": [
       "(-3 + 5i)"
      ]
     },
     "execution_count": 17,
     "metadata": {},
     "output_type": "execute_result"
    }
   ],
   "source": [
    "x"
   ]
  },
  {
   "cell_type": "code",
   "execution_count": 18,
   "id": "561d05d3",
   "metadata": {},
   "outputs": [
    {
     "data": {
      "text/plain": [
       "(5 - 1i)"
      ]
     },
     "execution_count": 18,
     "metadata": {},
     "output_type": "execute_result"
    }
   ],
   "source": [
    "y"
   ]
  },
  {
   "cell_type": "code",
   "execution_count": null,
   "id": "a358005a",
   "metadata": {},
   "outputs": [],
   "source": []
  }
 ],
 "metadata": {
  "kernelspec": {
   "display_name": "Python 3 (ipykernel)",
   "language": "python",
   "name": "python3"
  },
  "language_info": {
   "codemirror_mode": {
    "name": "ipython",
    "version": 3
   },
   "file_extension": ".py",
   "mimetype": "text/x-python",
   "name": "python",
   "nbconvert_exporter": "python",
   "pygments_lexer": "ipython3",
   "version": "3.9.7"
  }
 },
 "nbformat": 4,
 "nbformat_minor": 5
}
