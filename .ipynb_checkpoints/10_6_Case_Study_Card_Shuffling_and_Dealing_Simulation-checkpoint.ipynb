{
 "cells": [
  {
   "cell_type": "code",
   "execution_count": 1,
   "id": "9c1e231e",
   "metadata": {},
   "outputs": [],
   "source": [
    "from deck import DeckOfCards"
   ]
  },
  {
   "cell_type": "code",
   "execution_count": 2,
   "id": "fd91cf8f",
   "metadata": {},
   "outputs": [],
   "source": [
    "deck_of_cards = DeckOfCards()"
   ]
  },
  {
   "cell_type": "code",
   "execution_count": 3,
   "id": "95bba5f3",
   "metadata": {},
   "outputs": [
    {
     "name": "stdout",
     "output_type": "stream",
     "text": [
      "Ace of Hearts      2 of Hearts        3 of Hearts        4 of Hearts        \n",
      "5 of Hearts        6 of Hearts        7 of Hearts        8 of Hearts        \n",
      "9 of Hearts        10 of Hearts       Jack of Hearts     Queen of Hearts    \n",
      "King of Hearts     Ace of Diamonds    2 of Diamonds      3 of Diamonds      \n",
      "4 of Diamonds      5 of Diamonds      6 of Diamonds      7 of Diamonds      \n",
      "8 of Diamonds      9 of Diamonds      10 of Diamonds     Jack of Diamonds   \n",
      "Queen of Diamonds  King of Diamonds   Ace of Clubs       2 of Clubs         \n",
      "3 of Clubs         4 of Clubs         5 of Clubs         6 of Clubs         \n",
      "7 of Clubs         8 of Clubs         9 of Clubs         10 of Clubs        \n",
      "Jack of Clubs      Queen of Clubs     King of Clubs      Ace of Spades      \n",
      "2 of Spades        3 of Spades        4 of Spades        5 of Spades        \n",
      "6 of Spades        7 of Spades        8 of Spades        9 of Spades        \n",
      "10 of Spades       Jack of Spades     Queen of Spades    King of Spades     \n",
      "\n"
     ]
    }
   ],
   "source": [
    "print(deck_of_cards)"
   ]
  },
  {
   "cell_type": "code",
   "execution_count": 4,
   "id": "fe324566",
   "metadata": {},
   "outputs": [],
   "source": [
    "deck_of_cards.shuffle()"
   ]
  },
  {
   "cell_type": "code",
   "execution_count": 5,
   "id": "36c601f1",
   "metadata": {},
   "outputs": [
    {
     "name": "stdout",
     "output_type": "stream",
     "text": [
      "3 of Clubs         Jack of Spades     6 of Diamonds      6 of Clubs         \n",
      "Ace of Clubs       Jack of Hearts     Queen of Clubs     King of Hearts     \n",
      "6 of Spades        5 of Clubs         2 of Spades        7 of Diamonds      \n",
      "Ace of Hearts      10 of Diamonds     6 of Hearts        5 of Hearts        \n",
      "Ace of Diamonds    3 of Spades        8 of Diamonds      10 of Spades       \n",
      "3 of Diamonds      4 of Spades        2 of Clubs         9 of Diamonds      \n",
      "Queen of Spades    2 of Diamonds      King of Clubs      King of Diamonds   \n",
      "5 of Spades        9 of Hearts        2 of Hearts        King of Spades     \n",
      "3 of Hearts        Queen of Diamonds  4 of Hearts        Queen of Hearts    \n",
      "Ace of Spades      7 of Spades        10 of Clubs        9 of Clubs         \n",
      "Jack of Clubs      7 of Clubs         8 of Clubs         8 of Spades        \n",
      "7 of Hearts        5 of Diamonds      9 of Spades        4 of Clubs         \n",
      "Jack of Diamonds   10 of Hearts       4 of Diamonds      8 of Hearts        \n",
      "\n"
     ]
    }
   ],
   "source": [
    "print(deck_of_cards)"
   ]
  },
  {
   "cell_type": "code",
   "execution_count": 6,
   "id": "2a49ec34",
   "metadata": {},
   "outputs": [
    {
     "data": {
      "text/plain": [
       "Card(face='3', suit='Clubs')"
      ]
     },
     "execution_count": 6,
     "metadata": {},
     "output_type": "execute_result"
    }
   ],
   "source": [
    "deck_of_cards.deal_card()"
   ]
  },
  {
   "cell_type": "code",
   "execution_count": 7,
   "id": "0bea7f97",
   "metadata": {},
   "outputs": [],
   "source": [
    "card = deck_of_cards.deal_card()"
   ]
  },
  {
   "cell_type": "code",
   "execution_count": 8,
   "id": "5f2884b2",
   "metadata": {},
   "outputs": [
    {
     "data": {
      "text/plain": [
       "'Jack of Spades'"
      ]
     },
     "execution_count": 8,
     "metadata": {},
     "output_type": "execute_result"
    }
   ],
   "source": [
    "str(card)"
   ]
  },
  {
   "cell_type": "code",
   "execution_count": 9,
   "id": "70c39160",
   "metadata": {},
   "outputs": [
    {
     "data": {
      "text/plain": [
       "'Jack_of_Spades.png'"
      ]
     },
     "execution_count": 9,
     "metadata": {},
     "output_type": "execute_result"
    }
   ],
   "source": [
    "card.image_name"
   ]
  },
  {
   "cell_type": "code",
   "execution_count": 10,
   "id": "eeaef872",
   "metadata": {},
   "outputs": [],
   "source": [
    "from deck import DeckOfCards"
   ]
  },
  {
   "cell_type": "code",
   "execution_count": 11,
   "id": "e35bdf07",
   "metadata": {},
   "outputs": [],
   "source": [
    "deck_of_cards = DeckOfCards()"
   ]
  },
  {
   "cell_type": "code",
   "execution_count": 12,
   "id": "6d6135b5",
   "metadata": {},
   "outputs": [
    {
     "name": "stdout",
     "output_type": "stream",
     "text": [
      "Using matplotlib backend: MacOSX\n"
     ]
    }
   ],
   "source": [
    "%matplotlib"
   ]
  },
  {
   "cell_type": "code",
   "execution_count": 13,
   "id": "31e779d5",
   "metadata": {},
   "outputs": [],
   "source": [
    "from pathlib import Path"
   ]
  },
  {
   "cell_type": "code",
   "execution_count": 14,
   "id": "2f604b95",
   "metadata": {},
   "outputs": [],
   "source": [
    "path = Path('.').joinpath('card_images')"
   ]
  },
  {
   "cell_type": "code",
   "execution_count": 15,
   "id": "66a626b6",
   "metadata": {},
   "outputs": [],
   "source": [
    "import matplotlib.pyplot as plt"
   ]
  },
  {
   "cell_type": "code",
   "execution_count": 16,
   "id": "8f84f693",
   "metadata": {},
   "outputs": [],
   "source": [
    "import matplotlib.image as mpimg"
   ]
  },
  {
   "cell_type": "code",
   "execution_count": 17,
   "id": "b1abbbfc",
   "metadata": {},
   "outputs": [],
   "source": [
    "figure, axes_list = plt.subplots(nrows=4, ncols=13)"
   ]
  },
  {
   "cell_type": "code",
   "execution_count": 18,
   "id": "415b8354",
   "metadata": {},
   "outputs": [],
   "source": [
    "for axes in axes_list.ravel():\n",
    "    axes.get_xaxis().set_visible(False)\n",
    "    axes.get_yaxis().set_visible(False)\n",
    "    image_name = deck_of_cards.deal_card().image_name\n",
    "    img = mpimg.imread(str(path.joinpath(image_name).resolve()))\n",
    "    axes.imshow(img)"
   ]
  },
  {
   "cell_type": "code",
   "execution_count": 19,
   "id": "a9b182b4",
   "metadata": {},
   "outputs": [],
   "source": [
    "figure.tight_layout()"
   ]
  },
  {
   "cell_type": "code",
   "execution_count": 20,
   "id": "262ade98",
   "metadata": {},
   "outputs": [],
   "source": [
    "deck_of_cards.shuffle()"
   ]
  },
  {
   "cell_type": "code",
   "execution_count": 21,
   "id": "6c23e2dd",
   "metadata": {},
   "outputs": [],
   "source": [
    "for axes in axes_list.ravel():\n",
    "    axes.get_xaxis().set_visible(False)\n",
    "    axes.get_yaxis().set_visible(False)\n",
    "    image_name = deck_of_cards.deal_card().image_name\n",
    "    img = mpimg.imread(str(path.joinpath(image_name).resolve()))\n",
    "    axes.imshow(img)\n",
    "    \n",
    "    "
   ]
  },
  {
   "cell_type": "code",
   "execution_count": 22,
   "id": "ec43f671",
   "metadata": {},
   "outputs": [],
   "source": [
    "deck_of_cards.shuffle()"
   ]
  },
  {
   "cell_type": "code",
   "execution_count": 23,
   "id": "0cb35db6",
   "metadata": {},
   "outputs": [],
   "source": [
    "figure, axes_list = plt.subplots(nrows=2, ncols=5)"
   ]
  },
  {
   "cell_type": "code",
   "execution_count": 24,
   "id": "a6ae2fc5",
   "metadata": {},
   "outputs": [],
   "source": [
    "for axes in axes_list.ravel():\n",
    "    axes.get_xaxis().set_visible(False)\n",
    "    axes.get_yaxis().set_visible(False)\n",
    "    image_name = deck_of_cards.deal_card().image_name\n",
    "    img = mpimg.imread(str(path.joinpath(image_name).resolve()))\n",
    "    axes.imshow(img)"
   ]
  },
  {
   "cell_type": "code",
   "execution_count": 26,
   "id": "44abc590",
   "metadata": {},
   "outputs": [],
   "source": [
    "figure.tight_layout()"
   ]
  },
  {
   "cell_type": "code",
   "execution_count": null,
   "id": "3b277282",
   "metadata": {},
   "outputs": [],
   "source": []
  }
 ],
 "metadata": {
  "kernelspec": {
   "display_name": "Python 3 (ipykernel)",
   "language": "python",
   "name": "python3"
  },
  "language_info": {
   "codemirror_mode": {
    "name": "ipython",
    "version": 3
   },
   "file_extension": ".py",
   "mimetype": "text/x-python",
   "name": "python",
   "nbconvert_exporter": "python",
   "pygments_lexer": "ipython3",
   "version": "3.9.7"
  }
 },
 "nbformat": 4,
 "nbformat_minor": 5
}
