{
 "cells": [
  {
   "cell_type": "code",
   "execution_count": 1,
   "id": "7b092569",
   "metadata": {},
   "outputs": [],
   "source": [
    "from commissionemployee import CommissionEmployee"
   ]
  },
  {
   "cell_type": "code",
   "execution_count": 2,
   "id": "dfaac0fc",
   "metadata": {},
   "outputs": [],
   "source": [
    "from decimal import Decimal"
   ]
  },
  {
   "cell_type": "code",
   "execution_count": 3,
   "id": "8d48b5e8",
   "metadata": {},
   "outputs": [],
   "source": [
    "c = CommissionEmployee('Sue', 'Jones', '333-33-3333',\n",
    "    Decimal('10000.00'), Decimal('0.06'))"
   ]
  },
  {
   "cell_type": "code",
   "execution_count": 4,
   "id": "56758d6b",
   "metadata": {},
   "outputs": [
    {
     "data": {
      "text/plain": [
       "CommissionEmployee: Sue Jones\n",
       "social security number: 333-33-3333\n",
       "gross sales: 10000.00\n",
       "commission rate: 0.06"
      ]
     },
     "execution_count": 4,
     "metadata": {},
     "output_type": "execute_result"
    }
   ],
   "source": [
    "c"
   ]
  },
  {
   "cell_type": "code",
   "execution_count": 5,
   "id": "f525ede8",
   "metadata": {},
   "outputs": [
    {
     "name": "stdout",
     "output_type": "stream",
     "text": [
      "600.00\n"
     ]
    }
   ],
   "source": [
    "print(f'{c.earnings():,.2f}')"
   ]
  },
  {
   "cell_type": "code",
   "execution_count": 6,
   "id": "ac6e1021",
   "metadata": {},
   "outputs": [],
   "source": [
    "c.gross_sales = Decimal('20000.00')"
   ]
  },
  {
   "cell_type": "code",
   "execution_count": 7,
   "id": "1c81d4de",
   "metadata": {},
   "outputs": [],
   "source": [
    "c.commission_rate = Decimal('0.1')"
   ]
  },
  {
   "cell_type": "code",
   "execution_count": 8,
   "id": "df03d7cf",
   "metadata": {},
   "outputs": [
    {
     "name": "stdout",
     "output_type": "stream",
     "text": [
      "2,000.00\n"
     ]
    }
   ],
   "source": [
    "print(f'{c.earnings():,.2f}')"
   ]
  },
  {
   "cell_type": "code",
   "execution_count": 9,
   "id": "554f812f",
   "metadata": {},
   "outputs": [],
   "source": [
    "from salariedcommissionemployee import SalariedCommissionEmployee"
   ]
  },
  {
   "cell_type": "code",
   "execution_count": 10,
   "id": "2177ca70",
   "metadata": {},
   "outputs": [],
   "source": [
    "s = SalariedCommissionEmployee('Bob', 'Lewis', '444-44-4444',\n",
    "        Decimal('5000.00'), Decimal('0.04'), Decimal('300.00'))"
   ]
  },
  {
   "cell_type": "code",
   "execution_count": 11,
   "id": "e9392dfe",
   "metadata": {},
   "outputs": [
    {
     "name": "stdout",
     "output_type": "stream",
     "text": [
      "Bob Lewis 444-44-4444 5000.00 0.04 300.00\n"
     ]
    }
   ],
   "source": [
    "print(s.first_name, s.last_name, s.ssn, s.gross_sales,\n",
    "      s.commission_rate, s.base_salary)"
   ]
  },
  {
   "cell_type": "code",
   "execution_count": 12,
   "id": "db4e5414",
   "metadata": {},
   "outputs": [
    {
     "name": "stdout",
     "output_type": "stream",
     "text": [
      "500.00\n"
     ]
    }
   ],
   "source": [
    "print(f'{s.earnings():,.2f}')"
   ]
  },
  {
   "cell_type": "code",
   "execution_count": 13,
   "id": "98f49b6b",
   "metadata": {},
   "outputs": [],
   "source": [
    "s.gross_sales = Decimal('10000.00')"
   ]
  },
  {
   "cell_type": "code",
   "execution_count": 14,
   "id": "142cd099",
   "metadata": {},
   "outputs": [],
   "source": [
    "s.commission_rate = Decimal('0.05')"
   ]
  },
  {
   "cell_type": "code",
   "execution_count": 15,
   "id": "41b6669d",
   "metadata": {},
   "outputs": [],
   "source": [
    "s.base_salary = Decimal('1000.00')"
   ]
  },
  {
   "cell_type": "code",
   "execution_count": 16,
   "id": "d9c5928d",
   "metadata": {},
   "outputs": [
    {
     "name": "stdout",
     "output_type": "stream",
     "text": [
      "SalariedCommissionEmployee: Bob Lewis\n",
      "social security number: 444-44-4444\n",
      "gross sales: 10000.00\n",
      "commission rate: 0.05\n",
      "base salary: 1000.00\n"
     ]
    }
   ],
   "source": [
    "print(s)"
   ]
  },
  {
   "cell_type": "code",
   "execution_count": 18,
   "id": "b2a42b31",
   "metadata": {},
   "outputs": [
    {
     "name": "stdout",
     "output_type": "stream",
     "text": [
      "1,500.00\n"
     ]
    }
   ],
   "source": [
    "print(f'{s.earnings():,.2f}')"
   ]
  },
  {
   "cell_type": "code",
   "execution_count": 19,
   "id": "99055c06",
   "metadata": {},
   "outputs": [
    {
     "data": {
      "text/plain": [
       "True"
      ]
     },
     "execution_count": 19,
     "metadata": {},
     "output_type": "execute_result"
    }
   ],
   "source": [
    "issubclass(SalariedCommissionEmployee, CommissionEmployee)"
   ]
  },
  {
   "cell_type": "code",
   "execution_count": 20,
   "id": "5085098e",
   "metadata": {},
   "outputs": [
    {
     "data": {
      "text/plain": [
       "True"
      ]
     },
     "execution_count": 20,
     "metadata": {},
     "output_type": "execute_result"
    }
   ],
   "source": [
    "isinstance(s, CommissionEmployee)"
   ]
  },
  {
   "cell_type": "code",
   "execution_count": 21,
   "id": "95c46e07",
   "metadata": {},
   "outputs": [
    {
     "data": {
      "text/plain": [
       "True"
      ]
     },
     "execution_count": 21,
     "metadata": {},
     "output_type": "execute_result"
    }
   ],
   "source": [
    "isinstance(s, SalariedCommissionEmployee)"
   ]
  },
  {
   "cell_type": "code",
   "execution_count": 22,
   "id": "b147e5a5",
   "metadata": {},
   "outputs": [
    {
     "name": "stdout",
     "output_type": "stream",
     "text": [
      "CommissionEmployee: Sue Jones\n",
      "social security number: 333-33-3333\n",
      "gross sales: 20000.00\n",
      "commission rate: 0.10\n",
      "2,000.00\n",
      "\n",
      "SalariedCommissionEmployee: Bob Lewis\n",
      "social security number: 444-44-4444\n",
      "gross sales: 10000.00\n",
      "commission rate: 0.05\n",
      "base salary: 1000.00\n",
      "1,500.00\n",
      "\n"
     ]
    }
   ],
   "source": [
    "employees = [c, s]\n",
    "\n",
    "for employee in employees:\n",
    "    print(employee)\n",
    "    print(f'{employee.earnings():,.2f}\\n')"
   ]
  },
  {
   "cell_type": "code",
   "execution_count": null,
   "id": "9716c122",
   "metadata": {},
   "outputs": [],
   "source": []
  }
 ],
 "metadata": {
  "kernelspec": {
   "display_name": "Python 3 (ipykernel)",
   "language": "python",
   "name": "python3"
  },
  "language_info": {
   "codemirror_mode": {
    "name": "ipython",
    "version": 3
   },
   "file_extension": ".py",
   "mimetype": "text/x-python",
   "name": "python",
   "nbconvert_exporter": "python",
   "pygments_lexer": "ipython3",
   "version": "3.9.7"
  }
 },
 "nbformat": 4,
 "nbformat_minor": 5
}
